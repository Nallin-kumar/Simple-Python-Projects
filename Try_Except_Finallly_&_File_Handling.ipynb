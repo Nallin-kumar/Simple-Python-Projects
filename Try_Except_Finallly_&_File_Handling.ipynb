{
 "cells": [
  {
   "cell_type": "raw",
   "id": "c3247d80-dfef-4fea-af59-e7cfa74f8d6c",
   "metadata": {},
   "source": [
    "Try Except"
   ]
  },
  {
   "cell_type": "raw",
   "id": "ef57a6fb-5752-4e74-ac39-9f61ce11d043",
   "metadata": {},
   "source": [
    "The try block lets you test a block of code for errors.\n",
    "The except block lets you handle the error.\n",
    "The else block lets you execute code when there is no error.\n",
    "The finally block lets you execute code, regardless of the result of the try- and except blocks."
   ]
  },
  {
   "cell_type": "code",
   "execution_count": 4,
   "id": "5e0b7bb4-6622-402b-b039-0ba00f51cdb1",
   "metadata": {},
   "outputs": [
    {
     "name": "stdout",
     "output_type": "stream",
     "text": [
      "Variable x is not defined\n"
     ]
    }
   ],
   "source": [
    "try:\n",
    "  print(x)\n",
    "except NameError:\n",
    "  print(\"Variable x is not defined\")\n",
    "except:\n",
    "  print(\"Something else went wrong\")"
   ]
  },
  {
   "cell_type": "raw",
   "id": "9e8c5efc-f750-42f7-b005-25d5a5b3837d",
   "metadata": {},
   "source": [
    "else"
   ]
  },
  {
   "cell_type": "code",
   "execution_count": 2,
   "id": "599910ad-dcf0-4b2d-a92d-d1e95b79c2a3",
   "metadata": {},
   "outputs": [
    {
     "name": "stdout",
     "output_type": "stream",
     "text": [
      "Hello\n",
      "Nothing went wrong\n"
     ]
    }
   ],
   "source": [
    "try:\n",
    "  print(\"Hello\")\n",
    "except:\n",
    "  print(\"Something went wrong\")\n",
    "else:\n",
    "  print(\"Nothing went wrong\")"
   ]
  },
  {
   "cell_type": "code",
   "execution_count": null,
   "id": "f990aeae-b010-4835-a6c6-b709de7a0ee7",
   "metadata": {},
   "outputs": [],
   "source": [
    "Finally"
   ]
  },
  {
   "cell_type": "code",
   "execution_count": 3,
   "id": "de3b1533-bc51-4dc2-a1b7-5a23c26fe913",
   "metadata": {},
   "outputs": [
    {
     "name": "stdout",
     "output_type": "stream",
     "text": [
      "Something went wrong\n",
      "The 'try except' is finished\n"
     ]
    }
   ],
   "source": [
    "try:\n",
    "  print(x)\n",
    "except:\n",
    "  print(\"Something went wrong\")\n",
    "finally:\n",
    "  print(\"The 'try except' is finished\")"
   ]
  },
  {
   "cell_type": "raw",
   "id": "43afa8bf-0577-497b-a597-c28ff41744e9",
   "metadata": {},
   "source": [
    "User Input"
   ]
  },
  {
   "cell_type": "code",
   "execution_count": 6,
   "id": "83bca2b4-ba3b-469e-9f3c-c41153852ca1",
   "metadata": {},
   "outputs": [
    {
     "name": "stdin",
     "output_type": "stream",
     "text": [
      "Enter username: Jayesh\n"
     ]
    },
    {
     "name": "stdout",
     "output_type": "stream",
     "text": [
      "Username is: Jayesh\n"
     ]
    }
   ],
   "source": [
    "username = input(\"Enter username:\")\n",
    "print(\"Username is: \" + username)"
   ]
  },
  {
   "cell_type": "raw",
   "id": "112aa440-0cff-4f95-a986-e43c9f25238d",
   "metadata": {},
   "source": [
    "File Handling"
   ]
  },
  {
   "cell_type": "raw",
   "id": "0118ebe0-42ef-47c6-8044-4c023d5d9b52",
   "metadata": {},
   "source": [
    "File handling is an important part of any web application.\n",
    "Python has several functions for creating, reading, updating, and deleting files."
   ]
  },
  {
   "cell_type": "raw",
   "id": "59bc3a51-a765-42d0-b4c5-522f2d093563",
   "metadata": {},
   "source": [
    "The key function for working with files in Python is the open() function.\n",
    "The open() function takes two parameters; filename, and mode.\n",
    "There are four different methods (modes) for opening a file:"
   ]
  },
  {
   "cell_type": "raw",
   "id": "2cd29a92-556f-4466-b576-1e97d81bb929",
   "metadata": {},
   "source": [
    "\"r\" - Read - Default value. Opens a file for reading, error if the file does not exist\n",
    "\"a\" - Append - Opens a file for appending, creates the file if it does not exist\n",
    "\"w\" - Write - Opens a file for writing, creates the file if it does not exist\n",
    "\"x\" - Create - Creates the specified file, returns an error if the file exists"
   ]
  },
  {
   "cell_type": "raw",
   "id": "6bb1835c-3eec-4d16-8724-b0ccfebcdcd5",
   "metadata": {},
   "source": [
    "In addition you can specify if the file should be handled as binary or text mode"
   ]
  },
  {
   "cell_type": "raw",
   "id": "8a177941-8bb3-4cc0-9383-f807682c121e",
   "metadata": {},
   "source": [
    "\"t\" - Text - Default value. Text mode\n",
    "\"b\" - Binary - Binary mode (e.g. images)"
   ]
  },
  {
   "cell_type": "raw",
   "id": "8779bc20-f34a-47b3-ac63-e8ddc1667305",
   "metadata": {},
   "source": [
    "Syntax"
   ]
  },
  {
   "cell_type": "code",
   "execution_count": null,
   "id": "c2bfb8cf-bded-4768-bea0-7ba2cacddc63",
   "metadata": {},
   "outputs": [],
   "source": [
    "f = open(\"demofile.txt\")"
   ]
  },
  {
   "cell_type": "code",
   "execution_count": 7,
   "id": "5a55384e-fd9c-4f6a-b90f-ded80bd2cda5",
   "metadata": {},
   "outputs": [
    {
     "ename": "FileNotFoundError",
     "evalue": "[Errno 2] No such file or directory: 'demofile.txt'",
     "output_type": "error",
     "traceback": [
      "\u001b[1;31m---------------------------------------------------------------------------\u001b[0m",
      "\u001b[1;31mFileNotFoundError\u001b[0m                         Traceback (most recent call last)",
      "Cell \u001b[1;32mIn[7], line 1\u001b[0m\n\u001b[1;32m----> 1\u001b[0m f \u001b[38;5;241m=\u001b[39m \u001b[38;5;28mopen\u001b[39m(\u001b[38;5;124m\"\u001b[39m\u001b[38;5;124mdemofile.txt\u001b[39m\u001b[38;5;124m\"\u001b[39m, \u001b[38;5;124m\"\u001b[39m\u001b[38;5;124mrt\u001b[39m\u001b[38;5;124m\"\u001b[39m)\n",
      "File \u001b[1;32mC:\\ProgramData\\anaconda3\\Lib\\site-packages\\IPython\\core\\interactiveshell.py:310\u001b[0m, in \u001b[0;36m_modified_open\u001b[1;34m(file, *args, **kwargs)\u001b[0m\n\u001b[0;32m    303\u001b[0m \u001b[38;5;28;01mif\u001b[39;00m file \u001b[38;5;129;01min\u001b[39;00m {\u001b[38;5;241m0\u001b[39m, \u001b[38;5;241m1\u001b[39m, \u001b[38;5;241m2\u001b[39m}:\n\u001b[0;32m    304\u001b[0m     \u001b[38;5;28;01mraise\u001b[39;00m \u001b[38;5;167;01mValueError\u001b[39;00m(\n\u001b[0;32m    305\u001b[0m         \u001b[38;5;124mf\u001b[39m\u001b[38;5;124m\"\u001b[39m\u001b[38;5;124mIPython won\u001b[39m\u001b[38;5;124m'\u001b[39m\u001b[38;5;124mt let you open fd=\u001b[39m\u001b[38;5;132;01m{\u001b[39;00mfile\u001b[38;5;132;01m}\u001b[39;00m\u001b[38;5;124m by default \u001b[39m\u001b[38;5;124m\"\u001b[39m\n\u001b[0;32m    306\u001b[0m         \u001b[38;5;124m\"\u001b[39m\u001b[38;5;124mas it is likely to crash IPython. If you know what you are doing, \u001b[39m\u001b[38;5;124m\"\u001b[39m\n\u001b[0;32m    307\u001b[0m         \u001b[38;5;124m\"\u001b[39m\u001b[38;5;124myou can use builtins\u001b[39m\u001b[38;5;124m'\u001b[39m\u001b[38;5;124m open.\u001b[39m\u001b[38;5;124m\"\u001b[39m\n\u001b[0;32m    308\u001b[0m     )\n\u001b[1;32m--> 310\u001b[0m \u001b[38;5;28;01mreturn\u001b[39;00m io_open(file, \u001b[38;5;241m*\u001b[39margs, \u001b[38;5;241m*\u001b[39m\u001b[38;5;241m*\u001b[39mkwargs)\n",
      "\u001b[1;31mFileNotFoundError\u001b[0m: [Errno 2] No such file or directory: 'demofile.txt'"
     ]
    }
   ],
   "source": [
    "f = open(\"demofile.txt\", \"rt\")"
   ]
  },
  {
   "cell_type": "raw",
   "id": "fc35853c-7601-4b56-ac63-a126d5829192",
   "metadata": {},
   "source": [
    "Because \"r\" for read, and \"t\" for text are the default values, you do not need to specify them."
   ]
  },
  {
   "cell_type": "code",
   "execution_count": null,
   "id": "e4ecac37-377f-4190-a2fc-95c7cc4506f7",
   "metadata": {},
   "outputs": [],
   "source": [
    "f = open(\"demofile.txt\", \"r\")\n",
    "print(f.read())"
   ]
  },
  {
   "cell_type": "raw",
   "id": "29b309c3-7fb9-4c4c-ac1b-1e7740ae9a97",
   "metadata": {},
   "source": [
    "If the file is located in a different location, you will have to specify the file path, like this:"
   ]
  },
  {
   "cell_type": "code",
   "execution_count": 5,
   "id": "9b9a76f7-8409-4db6-893d-57916517500a",
   "metadata": {},
   "outputs": [
    {
     "ename": "SyntaxError",
     "evalue": "(unicode error) 'unicodeescape' codec can't decode bytes in position 2-3: truncated \\UXXXXXXXX escape (2259516385.py, line 2)",
     "output_type": "error",
     "traceback": [
      "\u001b[1;36m  Cell \u001b[1;32mIn[5], line 2\u001b[1;36m\u001b[0m\n\u001b[1;33m    f = open(\"C:\\Users\\Administrator\\Desktop\\JD.txt\", \"r\")\u001b[0m\n\u001b[1;37m                                                    ^\u001b[0m\n\u001b[1;31mSyntaxError\u001b[0m\u001b[1;31m:\u001b[0m (unicode error) 'unicodeescape' codec can't decode bytes in position 2-3: truncated \\UXXXXXXXX escape\n"
     ]
    }
   ],
   "source": [
    "import os\n",
    "f = open(\"C:\\Users\\Administrator\\Desktop\\JD.txt\", \"r\")\n",
    "print(f.read())"
   ]
  },
  {
   "cell_type": "raw",
   "id": "69881dd3-0a1d-4f7f-ae1d-0dfc7dfbe00f",
   "metadata": {},
   "source": [
    "Read Only Parts of the File"
   ]
  },
  {
   "cell_type": "raw",
   "id": "97e923b1-aaa8-4d6b-9f09-55d7e329a4b4",
   "metadata": {},
   "source": [
    "By default the read() method returns the whole text, but you can also specify how many characters you want to return:"
   ]
  },
  {
   "cell_type": "code",
   "execution_count": null,
   "id": "4e79263e-38bb-4e68-8cb5-a4aa644fcf84",
   "metadata": {},
   "outputs": [],
   "source": [
    "f = open(\"demofile.txt\", \"r\")\n",
    "print(f.read(5))\n",
    "#Return the 5 first characters of the file:"
   ]
  },
  {
   "cell_type": "raw",
   "id": "8582c3fa-7afc-4ca1-8f78-33b605ce491a",
   "metadata": {},
   "source": [
    "Read Lines\n",
    "You can return one line by using the readline() method:"
   ]
  },
  {
   "cell_type": "code",
   "execution_count": null,
   "id": "3c435b3e-c018-4e78-8a81-cc7c24abf560",
   "metadata": {},
   "outputs": [],
   "source": [
    "f = open(\"demofile.txt\", \"r\")\n",
    "print(f.readline())"
   ]
  },
  {
   "cell_type": "raw",
   "id": "3ba6165b-0d9e-48e0-b6d0-93fc224e6efc",
   "metadata": {},
   "source": [
    "By calling readline() two times, you can read the two first lines:"
   ]
  },
  {
   "cell_type": "code",
   "execution_count": null,
   "id": "229763a0-a795-4ec0-b19f-1be89e851d5f",
   "metadata": {},
   "outputs": [],
   "source": [
    "f = open(\"demofile.txt\", \"r\")\n",
    "print(f.readline())\n",
    "print(f.readline())"
   ]
  },
  {
   "cell_type": "raw",
   "id": "86d03fc0-40b6-4d28-ab1a-8823f970db3c",
   "metadata": {},
   "source": [
    "By looping through the lines of the file, you can read the whole file, line by line:"
   ]
  },
  {
   "cell_type": "code",
   "execution_count": null,
   "id": "aae032c6-ab62-4729-a415-8be0abb9465e",
   "metadata": {},
   "outputs": [],
   "source": [
    "f = open(\"demofile.txt\", \"r\")\n",
    "for x in f:\n",
    "  print(x)"
   ]
  },
  {
   "cell_type": "raw",
   "id": "44a4c6bc-eb9f-419a-8ed2-9e5f76fcad17",
   "metadata": {},
   "source": [
    "Close Files"
   ]
  },
  {
   "cell_type": "code",
   "execution_count": null,
   "id": "f194563f-30ad-4a3d-88c6-924eab253883",
   "metadata": {},
   "outputs": [],
   "source": [
    "f = open(\"demofile.txt\", \"r\")\n",
    "print(f.readline())\n",
    "f.close()"
   ]
  },
  {
   "cell_type": "raw",
   "id": "55daf544-84a1-40ea-bef0-0e7ba7663a2f",
   "metadata": {},
   "source": [
    "File Write"
   ]
  },
  {
   "cell_type": "raw",
   "id": "bfadebac-c12d-4d94-b1fa-5bfa14e2243a",
   "metadata": {},
   "source": [
    "To write to an existing file, you must add a parameter to the open() function:\n",
    "\"a\" - Append - will append to the end of the file\n",
    "\"w\" - Write - will overwrite any existing content"
   ]
  },
  {
   "cell_type": "code",
   "execution_count": null,
   "id": "90860d8b-ba1b-43ac-9be1-c8a7cab85a18",
   "metadata": {},
   "outputs": [],
   "source": [
    "f = open(\"demofile2.txt\", \"a\")\n",
    "f.write(\"Now the file has more content!\")\n",
    "f.close()\n",
    "\n",
    "#open and read the file after the appending:\n",
    "f = open(\"demofile2.txt\", \"r\")\n",
    "print(f.read())"
   ]
  },
  {
   "cell_type": "raw",
   "id": "d671b4a4-d397-46c3-bd44-778120873ad9",
   "metadata": {},
   "source": [
    "Create a New File"
   ]
  },
  {
   "cell_type": "raw",
   "id": "11555561-6c1f-4909-b49d-a3715e7134e1",
   "metadata": {},
   "source": [
    "To create a new file in Python, use the open() method, with one of the following parameters:\n",
    "\"x\" - Create - will create a file, returns an error if the file exist"
   ]
  },
  {
   "cell_type": "code",
   "execution_count": null,
   "id": "84603006-366f-4d68-b910-4c274bfa49a4",
   "metadata": {},
   "outputs": [],
   "source": [
    "f = open(\"myfile.txt\", \"x\")"
   ]
  },
  {
   "cell_type": "raw",
   "id": "5e036c46-c5bf-4f4f-a543-aaab2f684fdb",
   "metadata": {},
   "source": [
    "Result: a new empty file is created!"
   ]
  },
  {
   "cell_type": "code",
   "execution_count": null,
   "id": "5fbf0301-2a5f-4ac2-9879-f8eaa359b920",
   "metadata": {},
   "outputs": [],
   "source": [
    "f = open(\"myfile.txt\", \"w\")"
   ]
  },
  {
   "cell_type": "code",
   "execution_count": null,
   "id": "d02dca00-f1dd-491d-a9e3-a0709a3cc365",
   "metadata": {},
   "outputs": [],
   "source": [
    "Create a new file if it does not exist:"
   ]
  },
  {
   "cell_type": "raw",
   "id": "fabd8ca2-5543-44d8-9396-40fd49f911e0",
   "metadata": {},
   "source": [
    "Delete a File"
   ]
  },
  {
   "cell_type": "raw",
   "id": "82d85c4d-6ee6-4ed7-a3df-0ab1514f348b",
   "metadata": {},
   "source": [
    "To delete a file, you must import the OS module, and run its os.remove() function:"
   ]
  },
  {
   "cell_type": "code",
   "execution_count": null,
   "id": "5f433fd9-eadf-468f-a748-419afd8311be",
   "metadata": {},
   "outputs": [],
   "source": [
    "import os\n",
    "os.remove(\"demofile.txt\")"
   ]
  },
  {
   "cell_type": "raw",
   "id": "6734c46b-e108-438d-bcc8-814462eb70f9",
   "metadata": {},
   "source": [
    "Check if File exist:\n",
    "To avoid getting an error, you might want to check if the file exists before you try to delete it:"
   ]
  },
  {
   "cell_type": "code",
   "execution_count": null,
   "id": "53582a2d-dcc2-4439-bbbd-bcc60bd03b5e",
   "metadata": {},
   "outputs": [],
   "source": [
    "import os\n",
    "if os.path.exists(\"demofile.txt\"):\n",
    "  os.remove(\"demofile.txt\")\n",
    "else:\n",
    "  print(\"The file does not exist\")"
   ]
  },
  {
   "cell_type": "code",
   "execution_count": null,
   "id": "b5b13241-61cb-4dd2-9dc4-ad5208cc6a22",
   "metadata": {},
   "outputs": [],
   "source": []
  }
 ],
 "metadata": {
  "kernelspec": {
   "display_name": "Python 3 (ipykernel)",
   "language": "python",
   "name": "python3"
  },
  "language_info": {
   "codemirror_mode": {
    "name": "ipython",
    "version": 3
   },
   "file_extension": ".py",
   "mimetype": "text/x-python",
   "name": "python",
   "nbconvert_exporter": "python",
   "pygments_lexer": "ipython3",
   "version": "3.11.7"
  }
 },
 "nbformat": 4,
 "nbformat_minor": 5
}
